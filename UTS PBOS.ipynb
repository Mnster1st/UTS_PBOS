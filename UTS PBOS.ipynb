{
 "cells": [
  {
   "cell_type": "code",
   "execution_count": 19,
   "id": "70eedf75",
   "metadata": {},
   "outputs": [
    {
     "name": "stdout",
     "output_type": "stream",
     "text": [
      "=========================BIODATA=========================\n",
      "Nama                 :  Vincent\n",
      "Alamat               :  Jalan Pak Kasih GG.Merak 3 NO.91\n",
      "No.Telp              :  0896-8954-6108\n",
      "Email                :  vincen.******@gmail,com\n",
      "=========================================================\n",
      "Pendidikan Formal    :  =======TK SUSTER PONTIANAK=======\n",
      "                        SD SUSTER PONTIANAK\n",
      "                        SMP SUSTER PONTIANAK\n",
      "                        SMA SANTO PAULUS PONTIANAK\n",
      "                        STMIK PONTIANAK\n",
      "Pendidikan Non-Formal:  Tidak Ada\n",
      "=========================================================\n",
      "Organisasi           :  =====PADA SAAT BERADA DI SMP=====\n",
      "                        Ekstrakulikuler Drumband\n",
      "                        Osis SMP SUSTER PONTIANAK\n",
      "                        PADA SAAT SMA\n",
      "                        Ekstrakulikuler Drumband\n",
      "=========================================================\n",
      "Hobi                 :  Bermain game\n",
      "Prestasi             :  ===Pada saat SMP pernah meraih===\n",
      "                        -Juara 2 tingkat kelas\n",
      "                    \n",
      "                        ===Pada saat SMA pernah meraih===\n",
      "                        -Banyak penghargaan untuk anggota\n",
      "                         Drumband\n",
      "=======================TENTANG SAYA======================\n"
     ]
    }
   ],
   "source": [
    "nama = \"Vincent\"\n",
    "alamat = \"Jalan Pak Kasih GG.Merak 3 NO.91\"\n",
    "no = \"0896-8954-6108\"\n",
    "email = \"vincen.******@gmail,com\"\n",
    "pendidikan = \"\"\"=======TK SUSTER PONTIANAK=======\n",
    "                        SD SUSTER PONTIANAK\n",
    "                        SMP SUSTER PONTIANAK\n",
    "                        SMA SANTO PAULUS PONTIANAK\n",
    "                        STMIK PONTIANAK\"\"\"\n",
    "organisasi = \"\"\"=====PADA SAAT BERADA DI SMP=====\n",
    "                        Ekstrakulikuler Drumband\n",
    "                        Osis SMP SUSTER PONTIANAK\n",
    "                        PADA SAAT SMA\n",
    "                        Ekstrakulikuler Drumband\"\"\"\n",
    "prestasi = \"\"\"===Pada saat SMP pernah meraih===\n",
    "                        -Juara 2 tingkat kelas\n",
    "                    \n",
    "                        ===Pada saat SMA pernah meraih===\n",
    "                        -Banyak penghargaan untuk anggota\n",
    "                         Drumband\"\"\"\n",
    "\n",
    "print(\"=========================BIODATA=========================\")\n",
    "print(\"Nama                 : \", nama)\n",
    "print(\"Alamat               : \", alamat)\n",
    "print(\"No.Telp              : \", no)\n",
    "print(\"Email                : \", email)\n",
    "print(\"=========================================================\")\n",
    "print(\"Pendidikan Formal    : \", pendidikan)\n",
    "print(\"Pendidikan Non-Formal:  Tidak Ada\")\n",
    "print(\"=========================================================\")\n",
    "print(\"Organisasi           : \", organisasi)\n",
    "print(\"=========================================================\")\n",
    "print(\"Hobi                 :  Bermain game\")\n",
    "print(\"Prestasi             : \", prestasi)\n",
    "print(\"=======================TENTANG SAYA======================\")\n"
   ]
  },
  {
   "cell_type": "code",
   "execution_count": 29,
   "id": "b0c994d1",
   "metadata": {},
   "outputs": [
    {
     "name": "stdout",
     "output_type": "stream",
     "text": [
      "===============MENGHITUNG LUAS===============\n",
      "Masukan Panjang: 12\n",
      "Masukan Lebar: 5\n",
      "Luas Persegi Panjang : 60.0\n",
      "=============================================\n"
     ]
    }
   ],
   "source": [
    "print(\"===============MENGHITUNG LUAS===============\")\n",
    "panjang = float(input(\"Masukan Panjang: \"))\n",
    "lebar = float(input(\"Masukan Lebar: \"))\n",
    "luas = panjang*lebar\n",
    "print(\"Luas Persegi Panjang :\",luas)\n",
    "print(\"=============================================\")"
   ]
  },
  {
   "cell_type": "code",
   "execution_count": 34,
   "id": "0ece3de5",
   "metadata": {},
   "outputs": [
    {
     "name": "stdout",
     "output_type": "stream",
     "text": [
      "================KONVERSI SUHU CELCIUS================\n",
      "silahkan input suhu Celcius : 37\n",
      "ini hasil konversi ke Reamur :  29.6\n",
      "ini hasil konversi ke Fahrenheit :  98.60000000000001\n",
      "=====================================================\n"
     ]
    }
   ],
   "source": [
    "print(\"================KONVERSI SUHU CELCIUS================\")\n",
    "Celcius = float(input(\"silahkan input suhu Celcius : \"))\n",
    "Reamur = (4/5)*Celcius\n",
    "Fahrenheit = (9/5)*Celcius + 32;         \n",
    "print (\"ini hasil konversi ke Reamur : \",Reamur)\n",
    "print (\"ini hasil konversi ke Fahrenheit : \",Fahrenheit)\n",
    "print (\"=====================================================\")"
   ]
  },
  {
   "cell_type": "code",
   "execution_count": 39,
   "id": "3c38fd34",
   "metadata": {},
   "outputs": [
    {
     "name": "stdout",
     "output_type": "stream",
     "text": [
      "================KONVERSI SUHU REAMUR=================\n",
      "silahkan input suhu Reamur : 29.6\n",
      "ini hasil konversi ke Celcius :  37.0\n",
      "ini hasil konversi ke Fahrenheit :  98.60000000000001\n",
      "=====================================================\n"
     ]
    }
   ],
   "source": [
    "print(\"================KONVERSI SUHU REAMUR=================\")\n",
    "Reamur = float(input(\"silahkan input suhu Reamur : \"))\n",
    "Celcius = (5/4) * Reamur\n",
    "Fahrenheit = (9/4 * Reamur) + 32         \n",
    "print (\"ini hasil konversi ke Celcius : \",Celcius)\n",
    "print (\"ini hasil konversi ke Fahrenheit : \",Fahrenheit)\n",
    "print (\"=====================================================\")"
   ]
  },
  {
   "cell_type": "code",
   "execution_count": 37,
   "id": "edbf29a6",
   "metadata": {},
   "outputs": [
    {
     "name": "stdout",
     "output_type": "stream",
     "text": [
      "================KONVERSI SUHU FAHRENHEIT================\n",
      "silahkan input suhu Fahrenheit : 98.60000000000001\n",
      "ini hasil konversi ke Reamur :  29.6\n",
      "ini hasil konversi ke Celcius :  37.00000000000001\n",
      "========================================================\n"
     ]
    }
   ],
   "source": [
    "print(\"================KONVERSI SUHU FAHRENHEIT================\")\n",
    "Fahrenheit = float(input(\"silahkan input suhu Fahrenheit : \"))\n",
    "Reamur = 4/9 * (Fahrenheit - 32)\n",
    "Celcius = (Fahrenheit - 32) * 5/9         \n",
    "print (\"ini hasil konversi ke Reamur : \",Reamur)\n",
    "print (\"ini hasil konversi ke Celcius : \",Celcius)\n",
    "print (\"========================================================\")"
   ]
  },
  {
   "cell_type": "code",
   "execution_count": 43,
   "id": "209e3570",
   "metadata": {},
   "outputs": [
    {
     "name": "stdout",
     "output_type": "stream",
     "text": [
      "================KONVERSI WAKTU================\n",
      "silahkan input detik yang diinginkan : 60\n",
      "HASIL KONVERSI DETIK ke MENIT :  60.0\n",
      "HASIL KONVERSI DETIK ke JAM   :  3600.0\n",
      "HASIL KONVERSI DETIK ke HARI  :  86400.0\n",
      "==============================================\n"
     ]
    }
   ],
   "source": [
    "print(\"================KONVERSI WAKTU================\")\n",
    "detik = float(input(\"silahkan input detik yang diinginkan : \"))\n",
    "menit = detik * 1\n",
    "jam = 60 * menit\n",
    "hari = 24 * jam\n",
    "print (\"HASIL KONVERSI DETIK ke MENIT : \",menit)\n",
    "print (\"HASIL KONVERSI DETIK ke JAM   : \",jam)\n",
    "print (\"HASIL KONVERSI DETIK ke HARI  : \",hari)\n",
    "print (\"==============================================\")"
   ]
  },
  {
   "cell_type": "code",
   "execution_count": 47,
   "id": "1066cae9",
   "metadata": {},
   "outputs": [
    {
     "name": "stdout",
     "output_type": "stream",
     "text": [
      "================MENGHITUNG LUAS LINGKARAN================\n",
      "silahkan input jari-jari lingkaran : 7\n",
      "Luas Lingkaran :  154.0\n",
      "=========================================================\n"
     ]
    }
   ],
   "source": [
    "print(\"================MENGHITUNG LUAS LINGKARAN================\")\n",
    "r = float(input(\"silahkan input jari-jari lingkaran : \"))\n",
    "phi  = 22/7\n",
    "L = phi * (r * r)\n",
    "print (\"Luas Lingkaran : \",L)\n",
    "print (\"=========================================================\")"
   ]
  },
  {
   "cell_type": "code",
   "execution_count": null,
   "id": "0fad28ae",
   "metadata": {},
   "outputs": [],
   "source": []
  }
 ],
 "metadata": {
  "kernelspec": {
   "display_name": "Python 3",
   "language": "python",
   "name": "python3"
  },
  "language_info": {
   "codemirror_mode": {
    "name": "ipython",
    "version": 3
   },
   "file_extension": ".py",
   "mimetype": "text/x-python",
   "name": "python",
   "nbconvert_exporter": "python",
   "pygments_lexer": "ipython3",
   "version": "3.8.8"
  }
 },
 "nbformat": 4,
 "nbformat_minor": 5
}
